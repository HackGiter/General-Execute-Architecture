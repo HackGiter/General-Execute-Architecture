{
 "cells": [
  {
   "cell_type": "code",
   "execution_count": 1,
   "metadata": {},
   "outputs": [],
   "source": [
    "import os\n",
    "os.environ[\"CUDA_VISIBLE_DEVICES\"]='7'\n",
    "from functools import partial\n",
    "\n",
    "import torch\n",
    "from torch.utils.data import DataLoader\n",
    "from datasets import load_dataset\n",
    "from gea.self.gpt.s.modeling_gpt import GPTModel, GPTConfig\n",
    "from gea.self.gpt.s.gpt_executor import GPTTokenizer, DataCollatorwithGPT, preprocess"
   ]
  },
  {
   "cell_type": "code",
   "execution_count": 2,
   "metadata": {},
   "outputs": [
    {
     "data": {
      "application/vnd.jupyter.widget-view+json": {
       "model_id": "e0de484cf6ed4d31bc2f2ae7c69a20df",
       "version_major": 2,
       "version_minor": 0
      },
      "text/plain": [
       "Map:   0%|          | 0/2850407 [00:00<?, ? examples/s]"
      ]
     },
     "metadata": {},
     "output_type": "display_data"
    },
    {
     "name": "stdout",
     "output_type": "stream",
     "text": [
      "{'input_ids': [[5, 6, 7, 11, 4, 8, 6, 13, 9, 5, 6, 11, 5, 7, 6, 12]], 'labels': [[2, 4, 1, 2, 11, 9, 5]]}\n"
     ]
    }
   ],
   "source": [
    "config = GPTConfig.from_pretrained(\"/data/lhz/manual/model/3E/gpt/0822\")\n",
    "model = GPTModel(config).to(\"cuda:0\")\n",
    "tokenizer = GPTTokenizer()\n",
    "\n",
    "datasets = load_dataset(\n",
    "    path=\"json\",\n",
    "    data_files=\"/data/lhz/manual/datasets/renum/s/train/data.jsonl\",\n",
    ")['train']\n",
    "datasets = datasets.map(\n",
    "    partial(preprocess, tokenizer=tokenizer),\n",
    "    remove_columns=datasets.column_names,\n",
    "    load_from_cache_file=False,\n",
    ")\n",
    "print(datasets[0])\n",
    "datasets.set_format(\"torch\")\n",
    "dataloaders = DataLoader(\n",
    "    datasets,\n",
    "    batch_size=4,\n",
    "    collate_fn=DataCollatorwithGPT(),\n",
    ")"
   ]
  },
  {
   "cell_type": "code",
   "execution_count": 3,
   "metadata": {},
   "outputs": [
    {
     "name": "stdout",
     "output_type": "stream",
     "text": [
      "tensor([[ 5,  6,  7, 11,  4,  8,  6, 13,  9,  5,  6, 11,  5,  7,  6, 12,  2,  4,\n",
      "          1,  2, 11,  9,  5,  0,  0,  0,  0,  0,  0,  0],\n",
      "        [ 5,  6,  7, 11,  4,  8,  6, 14,  9,  5,  6, 11,  5,  7,  6, 12, 14,  4,\n",
      "          9, 10, 11,  1, 10,  0,  0,  0,  0,  0,  0,  0],\n",
      "        [ 5,  6,  7, 11,  4,  8,  6, 15,  9,  5,  6, 11,  5,  7,  6, 12,  4,  9,\n",
      "          6,  9,  5, 10, 11,  1,  9, 10,  4,  8,  6,  0],\n",
      "        [ 5,  4,  7, 11,  6, 10,  9, 13,  8,  4,  8, 11,  6,  4,  2, 12,  2,  2,\n",
      "          8,  5, 11,  2,  3, 10,  0,  0,  0,  0,  0,  0]])\n",
      "tensor([[-100, -100, -100, -100, -100, -100, -100, -100, -100, -100, -100, -100,\n",
      "         -100, -100, -100, -100,    2,    4,    1,    2,   11,    9,    5,    0,\n",
      "         -100, -100, -100, -100, -100, -100],\n",
      "        [-100, -100, -100, -100, -100, -100, -100, -100, -100, -100, -100, -100,\n",
      "         -100, -100, -100, -100,   14,    4,    9,   10,   11,    1,   10,    0,\n",
      "         -100, -100, -100, -100, -100, -100],\n",
      "        [-100, -100, -100, -100, -100, -100, -100, -100, -100, -100, -100, -100,\n",
      "         -100, -100, -100, -100,    4,    9,    6,    9,    5,   10,   11,    1,\n",
      "            9,   10,    4,    8,    6,    0],\n",
      "        [-100, -100, -100, -100, -100, -100, -100, -100, -100, -100, -100, -100,\n",
      "         -100, -100, -100, -100,    2,    2,    8,    5,   11,    2,    3,   10,\n",
      "            0, -100, -100, -100, -100, -100]])\n"
     ]
    }
   ],
   "source": [
    "samples = 1\n",
    "for i, item in enumerate(dataloaders):\n",
    "    if i == samples:\n",
    "        break\n",
    "    print(item['input_ids'])\n",
    "    print(item['labels'])\n",
    "    item = {k:v.to(model.device) for k, v in item.items()}\n",
    "    outputs = model(**item)"
   ]
  },
  {
   "cell_type": "code",
   "execution_count": 6,
   "metadata": {},
   "outputs": [
    {
     "name": "stdout",
     "output_type": "stream",
     "text": [
      "SequenceOutputs(loss=tensor(2.8485, device='cuda:0', grad_fn=<NllLossBackward0>), scores=None, logits=None, hidden_states=None)\n"
     ]
    }
   ],
   "source": [
    "print(outputs)"
   ]
  },
  {
   "cell_type": "code",
   "execution_count": 4,
   "metadata": {},
   "outputs": [],
   "source": [
    "# input_ids = torch.tensor([[0,1,2,3,4], [5,0,1,2,3]]).to(\"cuda:0\")\n",
    "# print(model(input_ids))"
   ]
  },
  {
   "cell_type": "code",
   "execution_count": 5,
   "metadata": {},
   "outputs": [
    {
     "name": "stdout",
     "output_type": "stream",
     "text": [
      "tensor([[ 2,  3,  4, 13,  4,  3,  2, 12]])\n"
     ]
    }
   ],
   "source": [
    "print(tokenizer(\"123+321=\", add_special_tokens=False))"
   ]
  },
  {
   "cell_type": "code",
   "execution_count": 23,
   "metadata": {},
   "outputs": [
    {
     "name": "stdout",
     "output_type": "stream",
     "text": [
      "0.0\n",
      "1000000000000000.0\n",
      "0.00000000\n",
      "150000000000000000000.00000000\n",
      "123123123123123124191625216.00000000\n",
      "12.87918274\n",
      "1123124\n"
     ]
    }
   ],
   "source": [
    "print(str(float(format(1e-15, \".8f\"))))\n",
    "print(str(float(format(1e15, \".8f\"))))\n",
    "print(f\"{1e-16:.8f}\")\n",
    "print(f\"{1.5e20:.8f}\")\n",
    "print(f\"{123123123123123123423423424.81029380170:.8f}\")\n",
    "print(f\"{12.8791827391923:.8f}\")\n",
    "print(format(1123123.981, '.8g'))"
   ]
  },
  {
   "cell_type": "code",
   "execution_count": 1,
   "metadata": {},
   "outputs": [],
   "source": [
    "class Experiments:\n",
    "    records = None\n",
    "    num = None\n",
    "    metrics = None\n",
    "    \n",
    "    def __init__(self, num, records=None, **kwargs) -> None:\n",
    "        self.num = num\n",
    "        self.records = records\n",
    "\n",
    "    def add(self):\n",
    "        return 0\n",
    "\n",
    "    def keys(self):\n",
    "        # 返回属性名的列表，以便 ** 解包操作使用\n",
    "        return self.__dict__.keys()\n",
    "\n",
    "    def __getitem__(self, key):\n",
    "        # 允许使用 obj[key] 访问属性\n",
    "        return getattr(self, key)\n",
    "    \n",
    "    def __iter__(self):\n",
    "        # 使实例可以直接通过 ** 解包为字典\n",
    "        for key, value in self.__dict__.items():\n",
    "            yield key, value"
   ]
  },
  {
   "cell_type": "code",
   "execution_count": 4,
   "metadata": {},
   "outputs": [
    {
     "name": "stdout",
     "output_type": "stream",
     "text": [
      "{'num': 1, 'records': 2}\n"
     ]
    }
   ],
   "source": [
    "exp = Experiments(1, 2)\n",
    "kwargs = {}\n",
    "dicts = {**kwargs, **exp}\n",
    "print(dicts)"
   ]
  },
  {
   "cell_type": "code",
   "execution_count": 1,
   "metadata": {},
   "outputs": [
    {
     "name": "stdout",
     "output_type": "stream",
     "text": [
      "True\n"
     ]
    }
   ],
   "source": [
    "from typing import Dict\n",
    "print(isinstance({}, Dict))"
   ]
  },
  {
   "cell_type": "code",
   "execution_count": 5,
   "metadata": {},
   "outputs": [
    {
     "name": "stdout",
     "output_type": "stream",
     "text": [
      "[None, None, None]\n",
      "[None, 1, None]\n"
     ]
    }
   ],
   "source": [
    "print([None] * 3)\n",
    "x = [None] * 3\n",
    "x[1] = 1\n",
    "print(x)"
   ]
  },
  {
   "cell_type": "code",
   "execution_count": 2,
   "metadata": {},
   "outputs": [
    {
     "name": "stdout",
     "output_type": "stream",
     "text": [
      "[[1, 2], [1, 2], [1, 2]]\n"
     ]
    }
   ],
   "source": [
    "x = [[]] * 3\n",
    "x[0].append(1)\n",
    "x[1].append(2)\n",
    "print(x)"
   ]
  }
 ],
 "metadata": {
  "kernelspec": {
   "display_name": "workplace",
   "language": "python",
   "name": "python3"
  },
  "language_info": {
   "codemirror_mode": {
    "name": "ipython",
    "version": 3
   },
   "file_extension": ".py",
   "mimetype": "text/x-python",
   "name": "python",
   "nbconvert_exporter": "python",
   "pygments_lexer": "ipython3",
   "version": "3.10.14"
  }
 },
 "nbformat": 4,
 "nbformat_minor": 2
}
