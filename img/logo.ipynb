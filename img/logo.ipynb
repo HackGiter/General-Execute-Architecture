{
 "cells": [
  {
   "cell_type": "code",
   "execution_count": 15,
   "metadata": {},
   "outputs": [
    {
     "data": {
      "image/png": "[encoded data removed]",
      "text/plain": [
       "<Figure size 800x500 with 1 Axes>"
      ]
     },
     "metadata": {},
     "output_type": "display_data"
    }
   ],
   "source": [
    "import numpy as np\n",
    "import matplotlib.pyplot as plt\n",
    "from matplotlib.patches import FancyBboxPatch\n",
    "from matplotlib.colors import LinearSegmentedColormap\n",
    "\n",
    "def create_logo():\n",
    "    # 创建一个新图形\n",
    "    _, ax = plt.subplots(figsize=(8, 5))\n",
    "\n",
    "    # 定义渐变边框颜色\n",
    "    cmap = LinearSegmentedColormap.from_list('grad', ['#FFB6C1', '#FF69B4'], N=256)  # 从浅粉到亮粉的渐变\n",
    "    \n",
    "    def gradient_patch(xy, width, height, cmap, ax):\n",
    "        gradient = np.linspace(0, 1, 256)\n",
    "        gradient = np.vstack((gradient, gradient))\n",
    "        ax.imshow(gradient, aspect='auto', cmap=cmap, extent=(xy[0], xy[0] + width, xy[1], xy[1] + height), alpha=0.6)\n",
    "    \n",
    "    # gradient_patch((0.03, 0.05), 0.94, 0.9, cmap, ax)  # 渐变背景，更大一些\n",
    "    # gradient_patch((0.1, 0.15), 0.8, 0.7, cmap, ax)   # 渐变背景\n",
    "    # gradient_patch((0.2, 0.25), 0.6, 0.5, cmap, ax)  # 渐变背景\n",
    "    # 添加四层渐变背景\n",
    "    gradient_patch((0.02, 0.04), 0.96, 0.92, cmap, ax)  # 最外层渐变背景\n",
    "    gradient_patch((0.04, 0.06), 0.92, 0.88, cmap, ax)   # 第二层渐变背景\n",
    "    gradient_patch((0.1, 0.15), 0.8, 0.7, cmap, ax)     # 第三层渐变背景\n",
    "    gradient_patch((0.2, 0.25), 0.6, 0.5, cmap, ax)     # 最内层渐变背景\n",
    "\n",
    "    # 绘制多彩背景\n",
    "    # ax.add_patch(FancyBboxPatch((0.1, 0.3), 0.8, 0.4, boxstyle=\"round,pad=0.1\", color='#FFDDC1', ec='black', lw=2))\n",
    "    # ax.add_patch(FancyBboxPatch((0.15, 0.35), 0.7, 0.3, boxstyle=\"round,pad=0.1\", color='#FFABAB', ec='black', lw=2))\n",
    "    # ax.add_patch(FancyBboxPatch((0.2, 0.4), 0.6, 0.2, boxstyle=\"round,pad=0.1\", color='#F9FBCF', ec='black', lw=2))\n",
    "\n",
    "    # 添加多彩文本到矩形中\n",
    "    ax.text(0.3, 0.56, 'G', fontsize=46, ha='center', va='center', color='#C72595', weight='bold', family='sans-serif')  # 番茄红\n",
    "    ax.text(0.5, 0.56, 'E', fontsize=46, ha='center', va='center', color='#FF7357', weight='bold', family='sans-serif')  # 钢蓝色\n",
    "    ax.text(0.7, 0.56, 'A', fontsize=46, ha='center', va='center', color='#FFC4A1', weight='bold', family='sans-serif')  # 黄绿色\n",
    "\n",
    "    ax.text(0.5, 0.40, 'General Execute Architecture', fontsize=12, ha='center', va='center', weight='bold', color='#3A3B8D', alpha=0.8, family='sans-serif')\n",
    "\n",
    "    # 设置坐标轴限制和隐藏\n",
    "    ax.set_xlim(0, 1)\n",
    "    ax.set_ylim(0, 1)\n",
    "    ax.set_aspect(0.5)\n",
    "    ax.axis('off')\n",
    "\n",
    "    # 保存徽标为图像文件\n",
    "    plt.savefig('gea_logo.png', bbox_inches='tight', pad_inches=0.04, transparent=True)\n",
    "    plt.show()\n",
    "\n",
    "create_logo()\n"
   ]
  }
 ],
 "metadata": {
  "kernelspec": {
   "display_name": "workplace",
   "language": "python",
   "name": "python3"
  },
  "language_info": {
   "codemirror_mode": {
    "name": "ipython",
    "version": 3
   },
   "file_extension": ".py",
   "mimetype": "text/x-python",
   "name": "python",
   "nbconvert_exporter": "python",
   "pygments_lexer": "ipython3",
   "version": "3.10.14"
  }
 },
 "nbformat": 4,
 "nbformat_minor": 2
}
